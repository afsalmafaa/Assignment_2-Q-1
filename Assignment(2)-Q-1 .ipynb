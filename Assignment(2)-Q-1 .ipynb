{
 "cells": [
  {
   "cell_type": "code",
   "execution_count": 3,
   "id": "5b2e7b26",
   "metadata": {},
   "outputs": [
    {
     "name": "stdout",
     "output_type": "stream",
     "text": [
      "sample list:[(2, 5), (1, 2), (4, 4), (2, 3), (2, 1)]\n",
      "Expected Result:[(2, 1), (1, 2), (2, 3), (4, 4), (2, 5)]\n"
     ]
    }
   ],
   "source": [
    "tup_list = [(2,5),(1,2),(4,4),(2,3),(2,1)]\n",
    "print(\"sample list:\" + str(tup_list))\n",
    "list_len = len(tup_list)\n",
    "for i in range(0,list_len):\n",
    "    for j in range(0,list_len-i-1):\n",
    "        if(tup_list[j][-1]>tup_list[j+1][-1]):\n",
    "            swap = tup_list[j]\n",
    "            tup_list[j]= tup_list[j+1]\n",
    "            tup_list[j+1] = swap\n",
    "\n",
    "print(\"Expected Result:\" + str(tup_list))"
   ]
  },
  {
   "cell_type": "code",
   "execution_count": 8,
   "id": "76717ca8",
   "metadata": {},
   "outputs": [
    {
     "name": "stdout",
     "output_type": "stream",
     "text": [
      "sample list:[(2, 5), (1, 2), (4, 4), (2, 3), (2, 1)]\n",
      "Expected Result:[(2, 1), (1, 2), (2, 3), (4, 4), (2, 5)]\n"
     ]
    }
   ],
   "source": [
    "tup_list = [(2,5),(1,2),(4,4),(2,3),(2,1)]\n",
    "print(\"sample list:\" + str(tup_list))\n",
    "tup_list.sort(key = lambda x:x[-1])\n",
    "print(\"Expected Result:\" + str(tup_list))"
   ]
  }
 ],
 "metadata": {
  "kernelspec": {
   "display_name": "Python 3 (ipykernel)",
   "language": "python",
   "name": "python3"
  },
  "language_info": {
   "codemirror_mode": {
    "name": "ipython",
    "version": 3
   },
   "file_extension": ".py",
   "mimetype": "text/x-python",
   "name": "python",
   "nbconvert_exporter": "python",
   "pygments_lexer": "ipython3",
   "version": "3.10.9"
  }
 },
 "nbformat": 4,
 "nbformat_minor": 5
}
